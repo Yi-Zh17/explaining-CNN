{
 "cells": [
  {
   "cell_type": "code",
   "execution_count": 1,
   "id": "d59bb5c6-f89d-47c6-a385-c83434b25062",
   "metadata": {
    "execution": {
     "iopub.execute_input": "2025-03-19T14:25:24.353619Z",
     "iopub.status.busy": "2025-03-19T14:25:24.353437Z",
     "iopub.status.idle": "2025-03-19T14:25:27.467519Z",
     "shell.execute_reply": "2025-03-19T14:25:27.466969Z",
     "shell.execute_reply.started": "2025-03-19T14:25:24.353604Z"
    }
   },
   "outputs": [],
   "source": [
    "import torch\n",
    "from tqdm import tqdm\n",
    "\n",
    "# Image-related utilities\n",
    "from torchvision.io import decode_image, read_image\n",
    "from torchvision.transforms import ToTensor\n",
    "from torchvision import transforms\n",
    "from PIL import Image\n",
    "\n",
    "# Import models\n",
    "from torchvision.models import vgg19, VGG19_Weights\n",
    "import torch.nn as nn\n",
    "import torch.optim as optim\n",
    "\n",
    "# Dataset\n",
    "from torchvision.datasets import Imagenette, ImageFolder\n",
    "from torch.utils.data import DataLoader\n",
    "\n",
    "# Plotting utility\n",
    "import matplotlib.pyplot as plt\n",
    "import pandas as pd"
   ]
  },
  {
   "cell_type": "code",
   "execution_count": 3,
   "id": "5094b953-3a01-4074-86b1-1d6e6cef3e63",
   "metadata": {
    "execution": {
     "iopub.execute_input": "2025-03-19T14:26:18.825725Z",
     "iopub.status.busy": "2025-03-19T14:26:18.825524Z",
     "iopub.status.idle": "2025-03-19T14:26:18.860129Z",
     "shell.execute_reply": "2025-03-19T14:26:18.859781Z",
     "shell.execute_reply.started": "2025-03-19T14:26:18.825710Z"
    }
   },
   "outputs": [],
   "source": [
    "# Define device\n",
    "device = 'cuda' if torch.cuda.is_available() else 'cpu'\n",
    "\n",
    "# Define transformations\n",
    "transform = transforms.Compose([\n",
    "    transforms.Resize((224, 224)),  # Resize for VGG19\n",
    "    transforms.ToTensor(),\n",
    "    transforms.Normalize(mean=[0.485, 0.456, 0.406], std=[0.229, 0.224, 0.225])  # VGG preprocessing\n",
    "])\n",
    "\n",
    "# Read imagenette data into data loader\n",
    "imagewoof_train = ImageFolder(root='/home/yi/Downloads/imagewoof2/train', transform=transform)\n",
    "imagewoof_val = ImageFolder(root='/home/yi/Downloads/imagewoof2/val', transform=transform)\n",
    "\n",
    "batch_size = 32\n",
    "train_loader = DataLoader(imagewoof_train, batch_size=batch_size, shuffle=True, num_workers=4)\n",
    "val_loader = DataLoader(imagewoof_val, batch_size=batch_size, shuffle=False, num_workers=4)"
   ]
  },
  {
   "cell_type": "code",
   "execution_count": 5,
   "id": "43d66d70-8839-48b0-a045-cd2ff56aea18",
   "metadata": {
    "execution": {
     "iopub.execute_input": "2025-03-19T14:26:31.272952Z",
     "iopub.status.busy": "2025-03-19T14:26:31.272710Z",
     "iopub.status.idle": "2025-03-19T14:26:31.276062Z",
     "shell.execute_reply": "2025-03-19T14:26:31.275566Z",
     "shell.execute_reply.started": "2025-03-19T14:26:31.272938Z"
    }
   },
   "outputs": [
    {
     "name": "stdout",
     "output_type": "stream",
     "text": [
      "Number of classes: 10\n"
     ]
    }
   ],
   "source": [
    "# Get number of classes\n",
    "num_classes = len(imagewoof_train.classes)\n",
    "print(f\"Number of classes: {num_classes}\")"
   ]
  },
  {
   "cell_type": "code",
   "execution_count": 6,
   "id": "1a1aceec-a5e1-48b1-ace5-9fec51db1f23",
   "metadata": {
    "execution": {
     "iopub.execute_input": "2025-03-19T14:26:38.652454Z",
     "iopub.status.busy": "2025-03-19T14:26:38.652252Z",
     "iopub.status.idle": "2025-03-19T14:26:40.033562Z",
     "shell.execute_reply": "2025-03-19T14:26:40.033017Z",
     "shell.execute_reply.started": "2025-03-19T14:26:38.652441Z"
    }
   },
   "outputs": [],
   "source": [
    "model = vgg19(weights=VGG19_Weights.DEFAULT).to(device)\n",
    "\n",
    "# Limit the last output features to 10\n",
    "model.classifier[6] = nn.Linear(in_features=4096, out_features=num_classes)\n",
    "\n",
    "# Move to device\n",
    "model = model.to(device)"
   ]
  },
  {
   "cell_type": "code",
   "execution_count": 7,
   "id": "516bc122-c7db-461e-8a00-811b65c78df9",
   "metadata": {
    "execution": {
     "iopub.execute_input": "2025-03-19T14:26:44.388363Z",
     "iopub.status.busy": "2025-03-19T14:26:44.388129Z",
     "iopub.status.idle": "2025-03-19T14:26:44.391573Z",
     "shell.execute_reply": "2025-03-19T14:26:44.390942Z",
     "shell.execute_reply.started": "2025-03-19T14:26:44.388350Z"
    }
   },
   "outputs": [],
   "source": [
    "# Loss function\n",
    "criterion = nn.CrossEntropyLoss()\n",
    "\n",
    "# Optimizer (fine-tuning the whole network)\n",
    "optimizer = optim.Adam(model.parameters(), lr=1e-4)"
   ]
  },
  {
   "cell_type": "code",
   "execution_count": 8,
   "id": "838028ae-d66d-47b0-b7d5-f94f6117a361",
   "metadata": {
    "execution": {
     "iopub.execute_input": "2025-03-19T14:27:11.673427Z",
     "iopub.status.busy": "2025-03-19T14:27:11.673144Z",
     "iopub.status.idle": "2025-03-19T14:53:27.917551Z",
     "shell.execute_reply": "2025-03-19T14:53:27.916938Z",
     "shell.execute_reply.started": "2025-03-19T14:27:11.673401Z"
    }
   },
   "outputs": [
    {
     "name": "stderr",
     "output_type": "stream",
     "text": [
      "Epoch [1/10]: 100%|█████| 283/283 [02:30<00:00,  1.89it/s, acc=84.5, loss=0.483]\n",
      "Epoch [2/10]: 100%|█████| 283/283 [02:32<00:00,  1.85it/s, acc=92.1, loss=0.246]\n",
      "Epoch [3/10]: 100%|██████| 283/283 [02:34<00:00,  1.83it/s, acc=94.4, loss=0.17]\n",
      "Epoch [4/10]: 100%|█████| 283/283 [02:36<00:00,  1.81it/s, acc=95.4, loss=0.145]\n",
      "Epoch [5/10]: 100%|█████| 283/283 [02:38<00:00,  1.79it/s, acc=96.6, loss=0.108]\n",
      "Epoch [6/10]: 100%|████| 283/283 [02:39<00:00,  1.77it/s, acc=96.9, loss=0.0976]\n",
      "Epoch [7/10]: 100%|█████| 283/283 [02:40<00:00,  1.77it/s, acc=96.9, loss=0.101]\n",
      "Epoch [8/10]: 100%|████| 283/283 [02:41<00:00,  1.75it/s, acc=97.2, loss=0.0872]\n",
      "Epoch [9/10]: 100%|█████| 283/283 [02:41<00:00,  1.75it/s, acc=98.2, loss=0.061]\n",
      "Epoch [10/10]: 100%|███| 283/283 [02:40<00:00,  1.76it/s, acc=98.4, loss=0.0539]\n"
     ]
    }
   ],
   "source": [
    "num_epochs = 10  # Adjust as needed\n",
    "\n",
    "for epoch in range(num_epochs):\n",
    "    model.train()\n",
    "    running_loss = 0.0\n",
    "    correct, total = 0, 0\n",
    "\n",
    "    loop = tqdm(train_loader, leave=True)\n",
    "    for images, labels in loop:\n",
    "        images, labels = images.to(device), labels.to(device)\n",
    "\n",
    "        # Forward pass\n",
    "        outputs = model(images)\n",
    "        loss = criterion(outputs, labels)\n",
    "\n",
    "        # Backward pass\n",
    "        optimizer.zero_grad()\n",
    "        loss.backward()\n",
    "        optimizer.step()\n",
    "\n",
    "        # Compute accuracy\n",
    "        _, preds = torch.max(outputs, 1)\n",
    "        correct += (preds == labels).sum().item()\n",
    "        total += labels.size(0)\n",
    "\n",
    "        running_loss += loss.item()\n",
    "        loop.set_description(f\"Epoch [{epoch+1}/{num_epochs}]\")\n",
    "        loop.set_postfix(loss=running_loss/len(train_loader), acc=100 * correct / total)"
   ]
  },
  {
   "cell_type": "code",
   "execution_count": 9,
   "id": "ff8f8d6d-bbb0-4875-9ba0-27c9c133fdae",
   "metadata": {
    "execution": {
     "iopub.execute_input": "2025-03-19T14:53:27.918700Z",
     "iopub.status.busy": "2025-03-19T14:53:27.918468Z",
     "iopub.status.idle": "2025-03-19T14:53:28.570475Z",
     "shell.execute_reply": "2025-03-19T14:53:28.569840Z",
     "shell.execute_reply.started": "2025-03-19T14:53:27.918681Z"
    }
   },
   "outputs": [],
   "source": [
    "PATH = 'vgg19_imagewoof.pth'\n",
    "torch.save(model.state_dict(), PATH)"
   ]
  },
  {
   "cell_type": "code",
   "execution_count": null,
   "id": "796d5869-25b4-41dc-b7fa-4eb789e906d2",
   "metadata": {},
   "outputs": [],
   "source": []
  }
 ],
 "metadata": {
  "kernelspec": {
   "display_name": "Python 3 (ipykernel)",
   "language": "python",
   "name": "python3"
  },
  "language_info": {
   "codemirror_mode": {
    "name": "ipython",
    "version": 3
   },
   "file_extension": ".py",
   "mimetype": "text/x-python",
   "name": "python",
   "nbconvert_exporter": "python",
   "pygments_lexer": "ipython3",
   "version": "3.10.14"
  }
 },
 "nbformat": 4,
 "nbformat_minor": 5
}
