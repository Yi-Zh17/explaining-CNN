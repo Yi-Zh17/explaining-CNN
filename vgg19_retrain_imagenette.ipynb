{
 "cells": [
  {
   "cell_type": "code",
   "execution_count": 1,
   "id": "0dbfbfef-223e-4bab-9ff4-db545d80546b",
   "metadata": {
    "execution": {
     "iopub.execute_input": "2025-03-05T16:02:15.806006Z",
     "iopub.status.busy": "2025-03-05T16:02:15.805784Z",
     "iopub.status.idle": "2025-03-05T16:02:18.352410Z",
     "shell.execute_reply": "2025-03-05T16:02:18.351798Z",
     "shell.execute_reply.started": "2025-03-05T16:02:15.805992Z"
    }
   },
   "outputs": [],
   "source": [
    "import torch\n",
    "from tqdm import tqdm\n",
    "\n",
    "# Image-related utilities\n",
    "from torchvision.io import decode_image, read_image\n",
    "from torchvision.transforms import ToTensor\n",
    "from torchvision import transforms\n",
    "from PIL import Image\n",
    "\n",
    "# Import models\n",
    "from torchvision.models import vgg19, VGG19_Weights\n",
    "import torch.nn as nn\n",
    "import torch.optim as optim\n",
    "\n",
    "# Dataset\n",
    "from torchvision.datasets import Imagenette, ImageFolder\n",
    "from torch.utils.data import DataLoader\n",
    "\n",
    "# Plotting utility\n",
    "import matplotlib.pyplot as plt\n",
    "import pandas as pd"
   ]
  },
  {
   "cell_type": "code",
   "execution_count": 2,
   "id": "c75461c9-b4fb-456a-8514-69b81cfde7a3",
   "metadata": {
    "execution": {
     "iopub.execute_input": "2025-03-05T16:02:18.353700Z",
     "iopub.status.busy": "2025-03-05T16:02:18.353399Z",
     "iopub.status.idle": "2025-03-05T16:02:18.558351Z",
     "shell.execute_reply": "2025-03-05T16:02:18.557670Z",
     "shell.execute_reply.started": "2025-03-05T16:02:18.353685Z"
    }
   },
   "outputs": [],
   "source": [
    "# Define device\n",
    "device = 'cuda' if torch.cuda.is_available() else 'cpu'\n",
    "\n",
    "# Define transformations\n",
    "transform = transforms.Compose([\n",
    "    transforms.Resize((224, 224)),  # Resize for VGG19\n",
    "    transforms.ToTensor(),\n",
    "    transforms.Normalize(mean=[0.485, 0.456, 0.406], std=[0.229, 0.224, 0.225])  # VGG preprocessing\n",
    "])\n",
    "\n",
    "# Read imagenette data into data loader\n",
    "imagenette_train = ImageFolder(root='/home/yi/Downloads/imagenette2/train', transform=transform)\n",
    "imagenette_val = ImageFolder(root='/home/yi/Downloads/imagenette2/val', transform=transform)\n",
    "\n",
    "batch_size = 32\n",
    "train_loader = DataLoader(imagenette_train, batch_size=batch_size, shuffle=True, num_workers=4)\n",
    "val_loader = DataLoader(imagenette_val, batch_size=batch_size, shuffle=False, num_workers=4)"
   ]
  },
  {
   "cell_type": "code",
   "execution_count": 3,
   "id": "56388046-e90b-4224-aa86-baf2eb77670e",
   "metadata": {
    "execution": {
     "iopub.execute_input": "2025-03-05T16:02:18.561132Z",
     "iopub.status.busy": "2025-03-05T16:02:18.560879Z",
     "iopub.status.idle": "2025-03-05T16:02:18.579390Z",
     "shell.execute_reply": "2025-03-05T16:02:18.578954Z",
     "shell.execute_reply.started": "2025-03-05T16:02:18.561108Z"
    }
   },
   "outputs": [
    {
     "name": "stdout",
     "output_type": "stream",
     "text": [
      "Number of classes: 10\n"
     ]
    }
   ],
   "source": [
    "# Get number of classes\n",
    "num_classes = len(imagenette_train.classes)\n",
    "print(f\"Number of classes: {num_classes}\")"
   ]
  },
  {
   "cell_type": "code",
   "execution_count": 4,
   "id": "205f2b29-c6ec-4305-9f87-5cab7a2d35a7",
   "metadata": {
    "execution": {
     "iopub.execute_input": "2025-03-05T16:02:18.580138Z",
     "iopub.status.busy": "2025-03-05T16:02:18.579990Z",
     "iopub.status.idle": "2025-03-05T16:02:20.078271Z",
     "shell.execute_reply": "2025-03-05T16:02:20.077638Z",
     "shell.execute_reply.started": "2025-03-05T16:02:18.580123Z"
    }
   },
   "outputs": [],
   "source": [
    "model = vgg19(weights=VGG19_Weights.DEFAULT).to(device)\n",
    "\n",
    "# Limit the last output features to 10\n",
    "model.classifier[6] = nn.Linear(in_features=4096, out_features=num_classes)\n",
    "\n",
    "# Move to device\n",
    "model = model.to(device)"
   ]
  },
  {
   "cell_type": "code",
   "execution_count": 5,
   "id": "82182550-859a-4fc0-9186-cefa99274d7b",
   "metadata": {
    "execution": {
     "iopub.execute_input": "2025-03-05T16:02:20.079025Z",
     "iopub.status.busy": "2025-03-05T16:02:20.078863Z",
     "iopub.status.idle": "2025-03-05T16:02:20.082145Z",
     "shell.execute_reply": "2025-03-05T16:02:20.081551Z",
     "shell.execute_reply.started": "2025-03-05T16:02:20.079008Z"
    }
   },
   "outputs": [],
   "source": [
    "# Loss function\n",
    "criterion = nn.CrossEntropyLoss()\n",
    "\n",
    "# Optimizer (fine-tuning the whole network)\n",
    "optimizer = optim.Adam(model.parameters(), lr=1e-4)"
   ]
  },
  {
   "cell_type": "code",
   "execution_count": 6,
   "id": "b604fafc-d1f3-49f0-ad34-89456d0b1837",
   "metadata": {
    "execution": {
     "iopub.execute_input": "2025-03-05T16:02:20.083541Z",
     "iopub.status.busy": "2025-03-05T16:02:20.083370Z",
     "iopub.status.idle": "2025-03-05T16:29:37.725348Z",
     "shell.execute_reply": "2025-03-05T16:29:37.724856Z",
     "shell.execute_reply.started": "2025-03-05T16:02:20.083524Z"
    }
   },
   "outputs": [
    {
     "name": "stderr",
     "output_type": "stream",
     "text": [
      "Epoch [1/10]: 100%|█████| 296/296 [02:40<00:00,  1.84it/s, acc=91.6, loss=0.288]\n",
      "Epoch [2/10]: 100%|█████| 296/296 [02:41<00:00,  1.83it/s, acc=96.1, loss=0.139]\n",
      "Epoch [3/10]: 100%|████| 296/296 [02:42<00:00,  1.82it/s, acc=97.5, loss=0.0824]\n",
      "Epoch [4/10]: 100%|█████| 296/296 [02:42<00:00,  1.82it/s, acc=97.2, loss=0.102]\n",
      "Epoch [5/10]: 100%|████| 296/296 [02:43<00:00,  1.81it/s, acc=97.8, loss=0.0731]\n",
      "Epoch [6/10]: 100%|████| 296/296 [02:43<00:00,  1.81it/s, acc=98.5, loss=0.0524]\n",
      "Epoch [7/10]: 100%|█████| 296/296 [02:43<00:00,  1.81it/s, acc=98.5, loss=0.051]\n",
      "Epoch [8/10]: 100%|████| 296/296 [02:44<00:00,  1.80it/s, acc=98.7, loss=0.0454]\n",
      "Epoch [9/10]: 100%|████| 296/296 [02:46<00:00,  1.78it/s, acc=97.9, loss=0.0726]\n",
      "Epoch [10/10]: 100%|███| 296/296 [02:48<00:00,  1.76it/s, acc=98.9, loss=0.0308]\n"
     ]
    }
   ],
   "source": [
    "num_epochs = 10  # Adjust as needed\n",
    "\n",
    "for epoch in range(num_epochs):\n",
    "    model.train()\n",
    "    running_loss = 0.0\n",
    "    correct, total = 0, 0\n",
    "\n",
    "    loop = tqdm(train_loader, leave=True)\n",
    "    for images, labels in loop:\n",
    "        images, labels = images.to(device), labels.to(device)\n",
    "\n",
    "        # Forward pass\n",
    "        outputs = model(images)\n",
    "        loss = criterion(outputs, labels)\n",
    "\n",
    "        # Backward pass\n",
    "        optimizer.zero_grad()\n",
    "        loss.backward()\n",
    "        optimizer.step()\n",
    "\n",
    "        # Compute accuracy\n",
    "        _, preds = torch.max(outputs, 1)\n",
    "        correct += (preds == labels).sum().item()\n",
    "        total += labels.size(0)\n",
    "\n",
    "        running_loss += loss.item()\n",
    "        loop.set_description(f\"Epoch [{epoch+1}/{num_epochs}]\")\n",
    "        loop.set_postfix(loss=running_loss/len(train_loader), acc=100 * correct / total)"
   ]
  },
  {
   "cell_type": "code",
   "execution_count": 8,
   "id": "62a1416e-805e-4272-8c50-9880ed00ceee",
   "metadata": {
    "execution": {
     "iopub.execute_input": "2025-03-05T17:04:54.466823Z",
     "iopub.status.busy": "2025-03-05T17:04:54.466549Z",
     "iopub.status.idle": "2025-03-05T17:04:54.896930Z",
     "shell.execute_reply": "2025-03-05T17:04:54.896336Z",
     "shell.execute_reply.started": "2025-03-05T17:04:54.466807Z"
    }
   },
   "outputs": [],
   "source": [
    "PATH = 'vgg19_imagenette.pth'\n",
    "torch.save(model.state_dict(), PATH)"
   ]
  }
 ],
 "metadata": {
  "kernelspec": {
   "display_name": "Python 3 (ipykernel)",
   "language": "python",
   "name": "python3"
  },
  "language_info": {
   "codemirror_mode": {
    "name": "ipython",
    "version": 3
   },
   "file_extension": ".py",
   "mimetype": "text/x-python",
   "name": "python",
   "nbconvert_exporter": "python",
   "pygments_lexer": "ipython3",
   "version": "3.10.14"
  }
 },
 "nbformat": 4,
 "nbformat_minor": 5
}
