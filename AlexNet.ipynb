{
 "cells": [
  {
   "cell_type": "code",
   "execution_count": 1,
   "id": "c0270337-8d8f-436d-9e0e-e83701f2671b",
   "metadata": {
    "execution": {
     "iopub.execute_input": "2024-11-11T08:24:40.058817Z",
     "iopub.status.busy": "2024-11-11T08:24:40.058692Z",
     "iopub.status.idle": "2024-11-11T08:24:41.419243Z",
     "shell.execute_reply": "2024-11-11T08:24:41.418699Z",
     "shell.execute_reply.started": "2024-11-11T08:24:40.058802Z"
    }
   },
   "outputs": [],
   "source": [
    "from torchvision.io import decode_image, read_image\n",
    "from torchvision.models import alexnet, AlexNet_Weights\n",
    "from torchvision import transforms\n",
    "from PIL import Image"
   ]
  },
  {
   "cell_type": "code",
   "execution_count": 2,
   "id": "3a656e97-7260-422d-8041-a762680d930f",
   "metadata": {
    "execution": {
     "iopub.execute_input": "2024-11-11T08:24:41.420589Z",
     "iopub.status.busy": "2024-11-11T08:24:41.420318Z",
     "iopub.status.idle": "2024-11-11T08:24:41.425985Z",
     "shell.execute_reply": "2024-11-11T08:24:41.425225Z",
     "shell.execute_reply.started": "2024-11-11T08:24:41.420575Z"
    }
   },
   "outputs": [],
   "source": [
    "img = read_image(\"/home/yi/Downloads/imagenette2/val/n01440764/ILSVRC2012_val_00009111.JPEG\")"
   ]
  },
  {
   "cell_type": "code",
   "execution_count": 3,
   "id": "ba98f346-86a8-49ba-8b77-f510385ad79b",
   "metadata": {
    "execution": {
     "iopub.execute_input": "2024-11-11T08:24:41.426693Z",
     "iopub.status.busy": "2024-11-11T08:24:41.426543Z",
     "iopub.status.idle": "2024-11-11T08:24:41.852046Z",
     "shell.execute_reply": "2024-11-11T08:24:41.851633Z",
     "shell.execute_reply.started": "2024-11-11T08:24:41.426678Z"
    }
   },
   "outputs": [
    {
     "data": {
      "text/plain": [
       "AlexNet(\n",
       "  (features): Sequential(\n",
       "    (0): Conv2d(3, 64, kernel_size=(11, 11), stride=(4, 4), padding=(2, 2))\n",
       "    (1): ReLU(inplace=True)\n",
       "    (2): MaxPool2d(kernel_size=3, stride=2, padding=0, dilation=1, ceil_mode=False)\n",
       "    (3): Conv2d(64, 192, kernel_size=(5, 5), stride=(1, 1), padding=(2, 2))\n",
       "    (4): ReLU(inplace=True)\n",
       "    (5): MaxPool2d(kernel_size=3, stride=2, padding=0, dilation=1, ceil_mode=False)\n",
       "    (6): Conv2d(192, 384, kernel_size=(3, 3), stride=(1, 1), padding=(1, 1))\n",
       "    (7): ReLU(inplace=True)\n",
       "    (8): Conv2d(384, 256, kernel_size=(3, 3), stride=(1, 1), padding=(1, 1))\n",
       "    (9): ReLU(inplace=True)\n",
       "    (10): Conv2d(256, 256, kernel_size=(3, 3), stride=(1, 1), padding=(1, 1))\n",
       "    (11): ReLU(inplace=True)\n",
       "    (12): MaxPool2d(kernel_size=3, stride=2, padding=0, dilation=1, ceil_mode=False)\n",
       "  )\n",
       "  (avgpool): AdaptiveAvgPool2d(output_size=(6, 6))\n",
       "  (classifier): Sequential(\n",
       "    (0): Dropout(p=0.5, inplace=False)\n",
       "    (1): Linear(in_features=9216, out_features=4096, bias=True)\n",
       "    (2): ReLU(inplace=True)\n",
       "    (3): Dropout(p=0.5, inplace=False)\n",
       "    (4): Linear(in_features=4096, out_features=4096, bias=True)\n",
       "    (5): ReLU(inplace=True)\n",
       "    (6): Linear(in_features=4096, out_features=1000, bias=True)\n",
       "  )\n",
       ")"
      ]
     },
     "execution_count": 3,
     "metadata": {},
     "output_type": "execute_result"
    }
   ],
   "source": [
    "# Initialize model\n",
    "weights = AlexNet_Weights.DEFAULT\n",
    "model = alexnet(weights=weights)\n",
    "model.eval()"
   ]
  },
  {
   "cell_type": "code",
   "execution_count": 4,
   "id": "aa926ef3-6d0d-4b69-ba44-09a673541676",
   "metadata": {
    "execution": {
     "iopub.execute_input": "2024-11-11T08:24:41.852802Z",
     "iopub.status.busy": "2024-11-11T08:24:41.852640Z",
     "iopub.status.idle": "2024-11-11T08:24:41.857289Z",
     "shell.execute_reply": "2024-11-11T08:24:41.856814Z",
     "shell.execute_reply.started": "2024-11-11T08:24:41.852786Z"
    }
   },
   "outputs": [],
   "source": [
    "preprocess = weights.transforms(antialias=True)\n",
    "batch = preprocess(img).unsqueeze(0)"
   ]
  },
  {
   "cell_type": "code",
   "execution_count": 5,
   "id": "7feb0929-f67f-492a-99dd-deb12f7255c6",
   "metadata": {
    "execution": {
     "iopub.execute_input": "2024-11-11T08:24:41.858137Z",
     "iopub.status.busy": "2024-11-11T08:24:41.857952Z",
     "iopub.status.idle": "2024-11-11T08:24:41.900892Z",
     "shell.execute_reply": "2024-11-11T08:24:41.900436Z",
     "shell.execute_reply.started": "2024-11-11T08:24:41.858118Z"
    }
   },
   "outputs": [
    {
     "name": "stdout",
     "output_type": "stream",
     "text": [
      "tench: 34.9%\n"
     ]
    }
   ],
   "source": [
    "prediction = model(batch).squeeze(0).softmax(0)\n",
    "class_id = prediction.argmax().item()\n",
    "score = prediction[class_id].item()\n",
    "category_name = weights.meta[\"categories\"][class_id]\n",
    "print(f\"{category_name}: {100 * score:.1f}%\")"
   ]
  },
  {
   "cell_type": "code",
   "execution_count": null,
   "id": "25d1a3bb-bdbf-46b7-9233-fac66f4695ac",
   "metadata": {},
   "outputs": [],
   "source": []
  }
 ],
 "metadata": {
  "kernelspec": {
   "display_name": "Python 3 (ipykernel)",
   "language": "python",
   "name": "python3"
  },
  "language_info": {
   "codemirror_mode": {
    "name": "ipython",
    "version": 3
   },
   "file_extension": ".py",
   "mimetype": "text/x-python",
   "name": "python",
   "nbconvert_exporter": "python",
   "pygments_lexer": "ipython3",
   "version": "3.10.14"
  }
 },
 "nbformat": 4,
 "nbformat_minor": 5
}
