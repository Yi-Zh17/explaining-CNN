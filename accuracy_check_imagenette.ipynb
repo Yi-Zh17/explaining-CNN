{
 "cells": [
  {
   "cell_type": "code",
   "execution_count": 1,
   "id": "c0270337-8d8f-436d-9e0e-e83701f2671b",
   "metadata": {
    "execution": {
     "iopub.execute_input": "2025-01-28T14:20:18.385264Z",
     "iopub.status.busy": "2025-01-28T14:20:18.384912Z",
     "iopub.status.idle": "2025-01-28T14:20:21.428353Z",
     "shell.execute_reply": "2025-01-28T14:20:21.427817Z",
     "shell.execute_reply.started": "2025-01-28T14:20:18.385234Z"
    }
   },
   "outputs": [],
   "source": [
    "import torch\n",
    "from tqdm import tqdm\n",
    "\n",
    "# Image-related utilities\n",
    "from torchvision.io import decode_image, read_image\n",
    "from torchvision.transforms import ToTensor\n",
    "from torchvision import transforms\n",
    "from PIL import Image\n",
    "\n",
    "# Import models\n",
    "from torchvision.models import alexnet, AlexNet_Weights\n",
    "from torchvision.models import convnext_base, ConvNeXt_Base_Weights\n",
    "from torchvision.models import densenet161, DenseNet161_Weights\n",
    "from torchvision.models import efficientnet_v2_m, EfficientNet_V2_M_Weights\n",
    "from torchvision.models import googlenet, GoogLeNet_Weights\n",
    "from torchvision.models import vgg19, VGG19_Weights\n",
    "from torchvision.models import resnet50, ResNet50_Weights\n",
    "from torchvision.models import inception_v3, Inception_V3_Weights\n",
    "\n",
    "# Dataset\n",
    "from torchvision.datasets import Imagenette\n",
    "\n",
    "# Plotting utility\n",
    "import matplotlib.pyplot as plt"
   ]
  },
  {
   "cell_type": "code",
   "execution_count": 2,
   "id": "f782cc15-5186-49b0-a0a2-12bc5f628372",
   "metadata": {
    "execution": {
     "iopub.execute_input": "2025-01-28T14:20:21.429505Z",
     "iopub.status.busy": "2025-01-28T14:20:21.429319Z",
     "iopub.status.idle": "2025-01-28T14:20:21.432101Z",
     "shell.execute_reply": "2025-01-28T14:20:21.431636Z",
     "shell.execute_reply.started": "2025-01-28T14:20:21.429490Z"
    }
   },
   "outputs": [],
   "source": [
    "# Map number to class name\n",
    "label_to_class = {\n",
    "    0: \"tench\",\n",
    "    1: \"English springer\",\n",
    "    2: \"cassette player\",\n",
    "    3: \"chain saw\",\n",
    "    4: \"church\",\n",
    "    5: \"French horn\",\n",
    "    6: \"garbage truck\",\n",
    "    7: \"gas pump\",\n",
    "    8: \"golf ball\",\n",
    "    9: \"parachute\"\n",
    "}"
   ]
  },
  {
   "cell_type": "code",
   "execution_count": 3,
   "id": "3a656e97-7260-422d-8041-a762680d930f",
   "metadata": {
    "execution": {
     "iopub.execute_input": "2025-01-28T14:20:21.434521Z",
     "iopub.status.busy": "2025-01-28T14:20:21.434363Z",
     "iopub.status.idle": "2025-01-28T14:20:21.449771Z",
     "shell.execute_reply": "2025-01-28T14:20:21.449322Z",
     "shell.execute_reply.started": "2025-01-28T14:20:21.434504Z"
    }
   },
   "outputs": [],
   "source": [
    "# Read imagenette data into data loader\n",
    "imagenette_data = Imagenette('/home/yi/Downloads/tgz', split='val', transform=ToTensor())\n",
    "data_loader = torch.utils.data.DataLoader(imagenette_data, batch_size=1, shuffle=False)"
   ]
  },
  {
   "cell_type": "code",
   "execution_count": 4,
   "id": "be4a8255-893b-4095-86f4-ccdf2d5676b2",
   "metadata": {
    "execution": {
     "iopub.execute_input": "2025-01-28T14:20:21.450603Z",
     "iopub.status.busy": "2025-01-28T14:20:21.450425Z",
     "iopub.status.idle": "2025-01-28T14:20:21.455743Z",
     "shell.execute_reply": "2025-01-28T14:20:21.455189Z",
     "shell.execute_reply.started": "2025-01-28T14:20:21.450588Z"
    }
   },
   "outputs": [],
   "source": [
    "# Evaluation function\n",
    "def evaluate(model, data_loader, weights):\n",
    "    # Record the number of correct classification\n",
    "    correct = 0\n",
    "    \n",
    "    # Set model to eval mode\n",
    "    model.eval()\n",
    "    model.cuda()\n",
    "    \n",
    "    \n",
    "    # Disable gradient computation\n",
    "    with torch.no_grad():\n",
    "        # Evaluation\n",
    "        for feature, labels in tqdm(data_loader, desc=\"Evaluating\", unit=\"images\"):\n",
    "            # Prepare image\n",
    "            img = feature[0].squeeze()\n",
    "            preprocess = weights.transforms(antialias=True)\n",
    "            batch = preprocess(img).unsqueeze(0)\n",
    "            batch = batch.to(next(model.parameters()).device)\n",
    "            labels = labels.to(next(model.parameters()).device)\n",
    "            # Prediction\n",
    "            prediction = model(batch).squeeze(0).softmax(0)\n",
    "            class_id = prediction.argmax().item()\n",
    "            # score = prediction[class_id].item()\n",
    "            category_name = weights.meta[\"categories\"][class_id]\n",
    "            # Update stat\n",
    "            if(category_name == label_to_class[labels.item()]):\n",
    "                correct += 1\n",
    "            \n",
    "    # Return the accuracy of the model\n",
    "    return correct/len(data_loader)"
   ]
  },
  {
   "cell_type": "code",
   "execution_count": 5,
   "id": "ba98f346-86a8-49ba-8b77-f510385ad79b",
   "metadata": {
    "execution": {
     "iopub.execute_input": "2025-01-28T14:20:21.456664Z",
     "iopub.status.busy": "2025-01-28T14:20:21.456483Z",
     "iopub.status.idle": "2025-01-28T14:20:26.246337Z",
     "shell.execute_reply": "2025-01-28T14:20:26.245811Z",
     "shell.execute_reply.started": "2025-01-28T14:20:21.456646Z"
    },
    "scrolled": true
   },
   "outputs": [],
   "source": [
    "# Initialize models\n",
    "# AlexNet\n",
    "weights_alex = AlexNet_Weights.DEFAULT\n",
    "model_alex = alexnet(weights=weights_alex)\n",
    "\n",
    "# ConvNeXt_Base\n",
    "weights_convnext = ConvNeXt_Base_Weights.DEFAULT\n",
    "model_convnext = convnext_base(weights=weights_convnext)\n",
    "\n",
    "# DenseNet161\n",
    "weights_densenet = DenseNet161_Weights.DEFAULT\n",
    "model_densenet = densenet161(weights=weights_densenet)\n",
    "\n",
    "# EfficientNet_V2\n",
    "weights_efficientnet = EfficientNet_V2_M_Weights.DEFAULT\n",
    "model_efficientnet = efficientnet_v2_m(weights=weights_efficientnet)\n",
    "\n",
    "# GoogLeNet\n",
    "weights_googlenet = GoogLeNet_Weights.DEFAULT\n",
    "model_googlenet = googlenet(weights=weights_googlenet)\n",
    "\n",
    "# VGG\n",
    "weights_vgg = VGG19_Weights.DEFAULT\n",
    "model_vgg = vgg19(weights=weights_vgg)\n",
    "\n",
    "# ResNet50\n",
    "weights_resnet = ResNet50_Weights.DEFAULT\n",
    "model_resnet = resnet50(weights=weights_resnet)\n",
    "\n",
    "# Inception V3\n",
    "weights_inception = Inception_V3_Weights.DEFAULT\n",
    "model_inception = inception_v3(weights=weights_inception)"
   ]
  },
  {
   "cell_type": "code",
   "execution_count": 6,
   "id": "aa926ef3-6d0d-4b69-ba44-09a673541676",
   "metadata": {
    "execution": {
     "iopub.execute_input": "2025-01-28T14:20:26.248139Z",
     "iopub.status.busy": "2025-01-28T14:20:26.247612Z",
     "iopub.status.idle": "2025-01-28T14:30:12.478608Z",
     "shell.execute_reply": "2025-01-28T14:30:12.478011Z",
     "shell.execute_reply.started": "2025-01-28T14:20:26.248112Z"
    }
   },
   "outputs": [
    {
     "name": "stderr",
     "output_type": "stream",
     "text": [
      "Evaluating: 100%|██████████████████████| 3925/3925 [00:26<00:00, 146.58images/s]\n"
     ]
    },
    {
     "name": "stdout",
     "output_type": "stream",
     "text": [
      "AlexNet: 0.7477707006369426\n"
     ]
    },
    {
     "name": "stderr",
     "output_type": "stream",
     "text": [
      "Evaluating: 100%|███████████████████████| 3925/3925 [01:11<00:00, 54.80images/s]\n"
     ]
    },
    {
     "name": "stdout",
     "output_type": "stream",
     "text": [
      "ConvNeXt: 0.9388535031847134\n"
     ]
    },
    {
     "name": "stderr",
     "output_type": "stream",
     "text": [
      "Evaluating: 100%|███████████████████████| 3925/3925 [01:45<00:00, 37.14images/s]\n"
     ]
    },
    {
     "name": "stdout",
     "output_type": "stream",
     "text": [
      "DenseNet: 0.8853503184713376\n"
     ]
    },
    {
     "name": "stderr",
     "output_type": "stream",
     "text": [
      "Evaluating: 100%|███████████████████████| 3925/3925 [02:09<00:00, 30.37images/s]\n"
     ]
    },
    {
     "name": "stdout",
     "output_type": "stream",
     "text": [
      "EfficientNetV2: 0.9401273885350319\n"
     ]
    },
    {
     "name": "stderr",
     "output_type": "stream",
     "text": [
      "Evaluating: 100%|███████████████████████| 3925/3925 [00:55<00:00, 70.10images/s]\n"
     ]
    },
    {
     "name": "stdout",
     "output_type": "stream",
     "text": [
      "GoogLeNet: 0.7839490445859872\n"
     ]
    },
    {
     "name": "stderr",
     "output_type": "stream",
     "text": [
      "Evaluating: 100%|███████████████████████| 3925/3925 [01:02<00:00, 62.47images/s]\n"
     ]
    },
    {
     "name": "stdout",
     "output_type": "stream",
     "text": [
      "VGG19: 0.8524840764331211\n"
     ]
    },
    {
     "name": "stderr",
     "output_type": "stream",
     "text": [
      "Evaluating: 100%|███████████████████████| 3925/3925 [00:52<00:00, 74.71images/s]\n"
     ]
    },
    {
     "name": "stdout",
     "output_type": "stream",
     "text": [
      "ResNet50: 0.9171974522292994\n"
     ]
    },
    {
     "name": "stderr",
     "output_type": "stream",
     "text": [
      "Evaluating: 100%|███████████████████████| 3925/3925 [01:20<00:00, 48.61images/s]"
     ]
    },
    {
     "name": "stdout",
     "output_type": "stream",
     "text": [
      "Inception: 0.9342675159235668\n"
     ]
    },
    {
     "name": "stderr",
     "output_type": "stream",
     "text": [
      "\n"
     ]
    }
   ],
   "source": [
    "# Evaluation step\n",
    "acc_alexnet = evaluate(model_alex, data_loader, weights_alex)\n",
    "print(f'AlexNet: {acc_alexnet}')\n",
    "\n",
    "acc_convnext = evaluate(model_convnext, data_loader, weights_convnext)\n",
    "print(f'ConvNeXt: {acc_convnext}')\n",
    "\n",
    "acc_densenet = evaluate(model_densenet, data_loader, weights_densenet)\n",
    "print(f'DenseNet: {acc_densenet}')\n",
    "\n",
    "acc_efficientnet = evaluate(model_efficientnet, data_loader, weights_efficientnet)\n",
    "print(f'EfficientNetV2: {acc_efficientnet}')\n",
    "\n",
    "acc_googlenet = evaluate(model_googlenet, data_loader, weights_googlenet)\n",
    "print(f'GoogLeNet: {acc_googlenet}')\n",
    "\n",
    "acc_vgg = evaluate(model_vgg, data_loader, weights_vgg)\n",
    "print(f'VGG19: {acc_vgg}')\n",
    "\n",
    "acc_resnet = evaluate(model_resnet, data_loader, weights_resnet)\n",
    "print(f'ResNet50: {acc_resnet}')\n",
    "\n",
    "acc_inception = evaluate(model_inception, data_loader, weights_inception)\n",
    "print(f'Inception: {acc_inception}')"
   ]
  },
  {
   "cell_type": "code",
   "execution_count": 11,
   "id": "c1a937c3-27d3-4ca0-b92e-8cbbaa6ae317",
   "metadata": {
    "execution": {
     "iopub.execute_input": "2025-01-28T14:38:48.967321Z",
     "iopub.status.busy": "2025-01-28T14:38:48.967049Z",
     "iopub.status.idle": "2025-01-28T14:38:49.087440Z",
     "shell.execute_reply": "2025-01-28T14:38:49.086953Z",
     "shell.execute_reply.started": "2025-01-28T14:38:48.967303Z"
    }
   },
   "outputs": [
    {
     "data": {
      "text/plain": [
       "Text(0.5, 1.0, 'Model accuracies on Imagenette Dataset')"
      ]
     },
     "execution_count": 11,
     "metadata": {},
     "output_type": "execute_result"
    },
    {
     "data": {
      "image/png": "[encoded data removed]",
      "text/plain": [
       "<Figure size 1000x500 with 1 Axes>"
      ]
     },
     "metadata": {},
     "output_type": "display_data"
    }
   ],
   "source": [
    "# Plotting accuracies\n",
    "fig, ax = plt.subplots(figsize=(10, 5))\n",
    "\n",
    "# Input data\n",
    "model_name = ['AlexNet', 'GoogLeNet', 'VGG', 'DenseNet', 'ResNet50', 'InceptionV3', 'ConvNeXt', 'EfficientNetV2']\n",
    "model_acc = [acc_alexnet, acc_googlenet, acc_vgg, acc_densenet, acc_resnet, acc_inception, acc_convnext, acc_efficientnet]\n",
    "\n",
    "# Bar chart\n",
    "ax.bar(model_name, model_acc)\n",
    "ax.set_ylabel('Prediction accuracy')\n",
    "ax.set_xlabel('Classfication models')\n",
    "ax.set_title('Model accuracies on Imagenette Dataset')"
   ]
  }
 ],
 "metadata": {
  "kernelspec": {
   "display_name": "Python 3 (ipykernel)",
   "language": "python",
   "name": "python3"
  },
  "language_info": {
   "codemirror_mode": {
    "name": "ipython",
    "version": 3
   },
   "file_extension": ".py",
   "mimetype": "text/x-python",
   "name": "python",
   "nbconvert_exporter": "python",
   "pygments_lexer": "ipython3",
   "version": "3.10.14"
  }
 },
 "nbformat": 4,
 "nbformat_minor": 5
}
