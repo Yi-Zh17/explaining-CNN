{
 "cells": [
  {
   "cell_type": "code",
   "execution_count": 1,
   "id": "e419cef8-82bb-479a-aca7-2ec92a4d5ffb",
   "metadata": {
    "execution": {
     "iopub.execute_input": "2025-04-25T08:42:27.403993Z",
     "iopub.status.busy": "2025-04-25T08:42:27.403845Z",
     "iopub.status.idle": "2025-04-25T08:42:30.173897Z",
     "shell.execute_reply": "2025-04-25T08:42:30.172227Z",
     "shell.execute_reply.started": "2025-04-25T08:42:27.403979Z"
    }
   },
   "outputs": [],
   "source": [
    "from torchvision.io import decode_image\n",
    "from torchvision.models import vgg19, VGG19_Weights\n",
    "\n",
    "import glob\n",
    "from PIL import Image\n",
    "import os"
   ]
  },
  {
   "cell_type": "code",
   "execution_count": 2,
   "id": "d76b8b77-787c-45f0-a3b4-7ca599ee9878",
   "metadata": {
    "execution": {
     "iopub.execute_input": "2025-04-25T08:42:30.177608Z",
     "iopub.status.busy": "2025-04-25T08:42:30.177013Z",
     "iopub.status.idle": "2025-04-25T08:42:30.186400Z",
     "shell.execute_reply": "2025-04-25T08:42:30.185678Z",
     "shell.execute_reply.started": "2025-04-25T08:42:30.177567Z"
    }
   },
   "outputs": [
    {
     "data": {
      "text/plain": [
       "['./further_modified_imgs/(chain saw)0.9998_double.jpg',\n",
       " './further_modified_imgs/(chain saw)0.9993_double.jpg',\n",
       " './further_modified_imgs/(gas pump)0.9999_further_distortion.jpg',\n",
       " './further_modified_imgs/(chain saw)0.9999_double.jpg',\n",
       " './further_modified_imgs/(church)0.9963_silouette.jpg',\n",
       " './further_modified_imgs/(gas pump)0.9994_further_distortion.jpg',\n",
       " './further_modified_imgs/(golf ball)1_no_texture.jpg',\n",
       " './further_modified_imgs/(chain saw)1_silouette.jpg',\n",
       " './further_modified_imgs/(chain saw)0.9992_no_saw.jpg',\n",
       " './further_modified_imgs/(parachute)0.9996.jpg']"
      ]
     },
     "execution_count": 2,
     "metadata": {},
     "output_type": "execute_result"
    }
   ],
   "source": [
    "#image_paths = glob.glob('./modified_imgs/**/*.jpg', recursive=True)\n",
    "image_paths = glob.glob('./further_modified_imgs/**/*.jpg', recursive=True)\n",
    "image_paths"
   ]
  },
  {
   "cell_type": "code",
   "execution_count": 3,
   "id": "c563745b-661e-4965-86da-0197a4ef0454",
   "metadata": {
    "execution": {
     "iopub.execute_input": "2025-04-25T08:42:30.189242Z",
     "iopub.status.busy": "2025-04-25T08:42:30.188857Z",
     "iopub.status.idle": "2025-04-25T08:42:32.385488Z",
     "shell.execute_reply": "2025-04-25T08:42:32.385035Z",
     "shell.execute_reply.started": "2025-04-25T08:42:30.189225Z"
    }
   },
   "outputs": [
    {
     "name": "stdout",
     "output_type": "stream",
     "text": [
      "file name: (chain saw)0.9998_double, prediction: chain saw, conf: 0.8452, True: chain saw, True Conf: 0.8452\n",
      "file name: (chain saw)0.9993_double, prediction: chain saw, conf: 0.6866, True: chain saw, True Conf: 0.6866\n",
      "file name: (gas pump)0.9999_further_distortion, prediction: vending machine, conf: 0.6098, True: gas pump, True Conf: 0.1009\n",
      "file name: (chain saw)0.9999_double, prediction: chain saw, conf: 0.9409, True: chain saw, True Conf: 0.9409\n",
      "file name: (church)0.9963_silouette, prediction: stupa, conf: 0.2656, True: church, True Conf: 0.1921\n",
      "file name: (gas pump)0.9994_further_distortion, prediction: gas pump, conf: 0.5161, True: gas pump, True Conf: 0.5161\n",
      "file name: (golf ball)1_no_texture, prediction: ping-pong ball, conf: 0.8256, True: golf ball, True Conf: 0.0061\n",
      "file name: (chain saw)1_silouette, prediction: chain saw, conf: 0.1778, True: chain saw, True Conf: 0.1778\n",
      "file name: (chain saw)0.9992_no_saw, prediction: chain saw, conf: 0.9323, True: chain saw, True Conf: 0.9323\n",
      "file name: (parachute)0.9996, prediction: parachute, conf: 0.9525, True: parachute, True Conf: 0.9525\n"
     ]
    }
   ],
   "source": [
    "# Step 1: Initialize model with the best available weights\n",
    "weights = VGG19_Weights.DEFAULT\n",
    "model = vgg19(weights=weights)\n",
    "model.eval()\n",
    "\n",
    "# Step 2: Initialize the inference transforms\n",
    "preprocess = weights.transforms()\n",
    "\n",
    "for img_path in image_paths:\n",
    "    # Read image\n",
    "    img = decode_image(img_path)\n",
    "    \n",
    "    # Step 3: Apply inference preprocessing transforms\n",
    "    batch = preprocess(img).unsqueeze(0)\n",
    "    \n",
    "    # Step 4: Use the model and print the predicted category\n",
    "    prediction = model(batch).squeeze(0).softmax(0)\n",
    "    class_id = prediction.argmax().item()\n",
    "    score = prediction[class_id].item()\n",
    "    category_name = weights.meta[\"categories\"][class_id]\n",
    "\n",
    "    filename = os.path.basename(img_path)\n",
    "    name = os.path.splitext(filename)[0]\n",
    "\n",
    "    # Expecting format like \"(class name)0.1234\"\n",
    "    try:\n",
    "        true_label = name.split(\")\")[0][1:]  # removes '(' at start and ')' at end\n",
    "    except IndexError:\n",
    "        true_label = \"unknown\"\n",
    "\n",
    "    # Confidence score for the true label\n",
    "    if true_label in weights.meta[\"categories\"]:\n",
    "        true_index = weights.meta[\"categories\"].index(true_label)\n",
    "        true_conf_score = prediction[true_index].item()\n",
    "    else:\n",
    "        true_conf_score = None  # label not found\n",
    "\n",
    "    print(f\"file name: {name}, prediction: {category_name}, conf: {score:.4f}, True: {true_label}, True Conf: {true_conf_score:.4f}\")\n",
    "    "
   ]
  }
 ],
 "metadata": {
  "kernelspec": {
   "display_name": "Python 3 (ipykernel)",
   "language": "python",
   "name": "python3"
  },
  "language_info": {
   "codemirror_mode": {
    "name": "ipython",
    "version": 3
   },
   "file_extension": ".py",
   "mimetype": "text/x-python",
   "name": "python",
   "nbconvert_exporter": "python",
   "pygments_lexer": "ipython3",
   "version": "3.10.14"
  }
 },
 "nbformat": 4,
 "nbformat_minor": 5
}
